{
 "metadata": {
  "language_info": {
   "codemirror_mode": {
    "name": "ipython",
    "version": 3
   },
   "file_extension": ".py",
   "mimetype": "text/x-python",
   "name": "python",
   "nbconvert_exporter": "python",
   "pygments_lexer": "ipython3",
   "version": "3.7.3-final"
  },
  "orig_nbformat": 2,
  "kernelspec": {
   "name": "python3",
   "display_name": "Python 3.7.3 64-bit ('ugrp_2': conda)",
   "metadata": {
    "interpreter": {
     "hash": "7bc6d09db81844138b66ce940f784dc9adac4bc49d2b1398ba1bbf3b56cd5cff"
    }
   }
  }
 },
 "nbformat": 4,
 "nbformat_minor": 2,
 "cells": [
  {
   "cell_type": "code",
   "execution_count": 96,
   "metadata": {},
   "outputs": [],
   "source": [
    "import pandas as pd\n",
    "import keras\n",
    "from keras.engine import Model\n",
    "from keras.layers import Flatten, Dense, Input\n",
    "from keras_vggface.vggface import VGGFace\n",
    "import numpy as np\n",
    "from keras.preprocessing import image\n",
    "from keras_vggface import utils\n",
    "import glob, re"
   ]
  },
  {
   "cell_type": "code",
   "execution_count": 97,
   "metadata": {},
   "outputs": [],
   "source": [
    "model = VGGFace(model = \"senet50\", include_top=False, input_shape=(300, 300, 3), pooling='avg') # pooling: None, avg or max"
   ]
  },
  {
   "cell_type": "code",
   "execution_count": 106,
   "metadata": {},
   "outputs": [
    {
     "output_type": "stream",
     "name": "stdout",
     "text": [
      "[14 14 14 ...  2  2  2] [14 14 14 14 14 14 14 14 12 12 12 12 12 12 12 12 12 12 12 12 12 12 12 12\n 12 12 12 12 12 12 12 12 12 12 12 12 12 12  8  8  8  8  8  8  8  8  8  8\n  8  8  8  8  8  8  8  8  8  8  8  8  8  8  8  8  8  8  8  8  8  8  8  8\n  8  8 10 10 10 15 15 15 15 15 15 15 15 15 15 15 15 15 13 13 13 13 13 13\n 13 13 13 13 13 13 13 13 13 13 13 13 13 13 13 13 13 13 13 13 13 13 13 13\n  9  9  9  9  9  9  9  9  9  9  9  9  9  9  9  9  9  9  9  9  9  9  9  9\n  9  9  9  9  9  9  9  9  9  9  9  9  9  9  9  9  9  9  9  9  9  9  9  9\n  9  9  9  9  9  9  9  9  9  9  9  9  9  9  9  9  9  9  9  9  9 11 11 11\n 11 11 11 11 11 11 11 11 11 11  5  5  5  5  5  5  5  5  5  5  5  5  5  5\n  5  5  5  5  5  5  5  5  5  5  5  5  5  5  5  5  5  5  1  1  1  1  1  1\n  1  1  1  1  1  1  1  1  1  1  1  1  1  1  1  1  1  1  1  1  1  1  1  1\n  1  1  1  1  1  1  1  1  1  1  1  1  1  1  1  1  1  1  1  1  1  1  1  1\n  1  1  1  1  1  1  1  1  1  1  1  1  1  1  1  1  1  1  1  1  1  1  1  1\n  1  1  1  1  3  3  3  3  3  3  3  3  3  3  3  3  3  3  3  3  3  3  3  3\n  3  3  3  3  3  3  3  3  3  3  3  3  3  6  6  6  6  6  6  6  6  6  6  6\n  6  6  6  4  4  4  4  4  4  4  4  4  4  4  4  4  4  4  4  4  4  4  4  4\n  4  4  4  4  4  4  4  4  4  4  4  0  0  0  0  0  0  0  0  0  0  0  0  0\n  0  0  0  0  0  0  0  0  0  0  0  0  0  0  0  0  0  0  0  0  0  0  0  0\n  0  0  0  0  0  0  0  0  0  0  2  2  2  2  2  2  2  2  2  2]\n"
     ]
    }
   ],
   "source": [
    "train_label_EI = pd.read_csv(\"train_E_I.csv\", usecols=[1], delimiter=',').to_numpy().flatten()\r\n",
    "test_label_EI = pd.read_csv(\"test_E_I.csv\", usecols=[1], delimiter=',').to_numpy().flatten()\r\n",
    "\r\n",
    "train_label_MBTI = pd.read_csv(\"train_MBTI.csv\", usecols=[1], delimiter=',').to_numpy().flatten()\r\n",
    "test_label_MBTI = pd.read_csv(\"test_MBTI.csv\", usecols=[1], delimiter=',').to_numpy().flatten()\r\n",
    "\r\n",
    "from sklearn import preprocessing\r\n",
    "le = preprocessing.LabelEncoder()\r\n",
    "train_label_MBTI = le.fit_transform(train_label_MBTI)\r\n",
    "test_label_MBTI = le.transform(test_label_MBTI)"
   ]
  },
  {
   "cell_type": "code",
   "execution_count": 107,
   "metadata": {},
   "outputs": [],
   "source": [
    "def preprocess_image(path):\n",
    "    img = image.load_img(path, target_size=(300, 300))\n",
    "    x = image.img_to_array(img)\n",
    "    x = np.expand_dims(x, axis=0)\n",
    "    x = utils.preprocess_input(x, version=2)\n",
    "    return x"
   ]
  },
  {
   "cell_type": "code",
   "execution_count": 108,
   "metadata": {},
   "outputs": [],
   "source": [
    "df_train_EI = pd.read_csv(\"train_E_I.csv\", usecols=[0], delimiter=',').values.flatten()\n",
    "df_test_EI = pd.read_csv(\"test_E_I.csv\", usecols=[0], delimiter=',').values.flatten()\n",
    "preprocessed_train_images_EI = np.vstack([preprocess_image(df_train_EI[i]) for i in range(df_train_EI.shape[0])])\n",
    "preprocessed_test_images_EI = np.vstack([preprocess_image(df_test_EI[i]) for i in range(df_test_EI.shape[0])])\n",
    "\n",
    "df_train_MBTI = pd.read_csv(\"train_MBTI.csv\", usecols=[0], delimiter=',').values.flatten()\n",
    "df_test_MBTI = pd.read_csv(\"test_MBTI.csv\", usecols=[0], delimiter=',').values.flatten()\n",
    "preprocessed_train_images_MBTI = np.vstack([preprocess_image(df_train_MBTI[i]) for i in range(df_train_MBTI.shape[0])])\n",
    "preprocessed_test_images_MBTI = np.vstack([preprocess_image(df_test_MBTI[i]) for i in range(df_test_MBTI.shape[0])])"
   ]
  },
  {
   "cell_type": "code",
   "execution_count": 109,
   "metadata": {},
   "outputs": [],
   "source": [
    "vgg_train_features_EI = model.predict(preprocessed_train_images_EI)\n",
    "vgg_train_features_EI = vgg_train_features_EI.reshape(train_label_EI.shape[0], -1)\n",
    "\n",
    "vgg_test_features_EI = model.predict(preprocessed_test_images_EI)\n",
    "vgg_test_features_EI = vgg_test_features_EI.reshape(test_label_EI.shape[0], -1)\n",
    "\n",
    "vgg_train_features_MBTI = model.predict(preprocessed_train_images_MBTI)\n",
    "vgg_train_features_MBTI = vgg_train_features_MBTI.reshape(train_label_MBTI.shape[0], -1)\n",
    "\n",
    "vgg_test_features_MBTI = model.predict(preprocessed_test_images_MBTI)\n",
    "vgg_test_features_MBTI = vgg_test_features_MBTI.reshape(test_label_MBTI.shape[0], -1)"
   ]
  },
  {
   "cell_type": "code",
   "execution_count": 110,
   "metadata": {},
   "outputs": [],
   "source": [
    "np.save(\"vgg_feature_train_EI.npy\", vgg_train_features_EI)\n",
    "np.save(\"vgg_feature_test_EI.npy\", vgg_test_features_EI)\n",
    "np.save(\"label_train_EI.npy\", train_label_EI)\n",
    "np.save(\"label_test_EI.npy\", test_label_EI)\n",
    "\n",
    "np.save(\"vgg_feature_train_MBTI.npy\", vgg_train_features_MBTI)\n",
    "np.save(\"vgg_feature_test_MBTI.npy\", vgg_test_features_MBTI)\n",
    "np.save(\"label_train_MBTI.npy\", train_label_MBTI)\n",
    "np.save(\"label_test_MBTI.npy\", test_label_MBTI)"
   ]
  },
  {
   "cell_type": "code",
   "execution_count": null,
   "metadata": {},
   "outputs": [],
   "source": []
  }
 ]
}