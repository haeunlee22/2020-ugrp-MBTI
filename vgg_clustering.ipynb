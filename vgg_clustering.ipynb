{
 "metadata": {
  "language_info": {
   "codemirror_mode": {
    "name": "ipython",
    "version": 3
   },
   "file_extension": ".py",
   "mimetype": "text/x-python",
   "name": "python",
   "nbconvert_exporter": "python",
   "pygments_lexer": "ipython3",
   "version": "3.7.3-final"
  },
  "orig_nbformat": 2,
  "kernelspec": {
   "name": "python3",
   "display_name": "Python 3.7.3 64-bit ('ugrp_2': conda)",
   "metadata": {
    "interpreter": {
     "hash": "7bc6d09db81844138b66ce940f784dc9adac4bc49d2b1398ba1bbf3b56cd5cff"
    }
   }
  }
 },
 "nbformat": 4,
 "nbformat_minor": 2,
 "cells": [
  {
   "cell_type": "code",
   "execution_count": 1,
   "metadata": {},
   "outputs": [
    {
     "output_type": "stream",
     "name": "stderr",
     "text": [
      "Using TensorFlow backend.\n"
     ]
    }
   ],
   "source": [
    "import pandas as pd\n",
    "import keras\n",
    "from keras.engine import Model\n",
    "from keras.layers import Flatten, Dense, Input\n",
    "from keras_vggface.vggface import VGGFace\n",
    "import numpy as np\n",
    "from keras.preprocessing import image\n",
    "from keras_vggface import utils\n",
    "import glob, re"
   ]
  },
  {
   "cell_type": "code",
   "execution_count": 2,
   "metadata": {},
   "outputs": [
    {
     "output_type": "stream",
     "name": "stdout",
     "text": [
      "WARNING:tensorflow:From C:\\Users\\leeh9\\anaconda3\\envs\\ugrp_2\\lib\\site-packages\\keras\\backend\\tensorflow_backend.py:74: The name tf.get_default_graph is deprecated. Please use tf.compat.v1.get_default_graph instead.\n",
      "\n",
      "WARNING:tensorflow:From C:\\Users\\leeh9\\anaconda3\\envs\\ugrp_2\\lib\\site-packages\\keras\\backend\\tensorflow_backend.py:517: The name tf.placeholder is deprecated. Please use tf.compat.v1.placeholder instead.\n",
      "\n",
      "WARNING:tensorflow:From C:\\Users\\leeh9\\anaconda3\\envs\\ugrp_2\\lib\\site-packages\\keras\\backend\\tensorflow_backend.py:4138: The name tf.random_uniform is deprecated. Please use tf.random.uniform instead.\n",
      "\n",
      "WARNING:tensorflow:From C:\\Users\\leeh9\\anaconda3\\envs\\ugrp_2\\lib\\site-packages\\keras\\backend\\tensorflow_backend.py:174: The name tf.get_default_session is deprecated. Please use tf.compat.v1.get_default_session instead.\n",
      "\n",
      "WARNING:tensorflow:From C:\\Users\\leeh9\\anaconda3\\envs\\ugrp_2\\lib\\site-packages\\keras\\backend\\tensorflow_backend.py:181: The name tf.ConfigProto is deprecated. Please use tf.compat.v1.ConfigProto instead.\n",
      "\n",
      "WARNING:tensorflow:From C:\\Users\\leeh9\\anaconda3\\envs\\ugrp_2\\lib\\site-packages\\keras\\backend\\tensorflow_backend.py:1834: The name tf.nn.fused_batch_norm is deprecated. Please use tf.compat.v1.nn.fused_batch_norm instead.\n",
      "\n",
      "WARNING:tensorflow:From C:\\Users\\leeh9\\anaconda3\\envs\\ugrp_2\\lib\\site-packages\\keras\\backend\\tensorflow_backend.py:3976: The name tf.nn.max_pool is deprecated. Please use tf.nn.max_pool2d instead.\n",
      "\n",
      "WARNING:tensorflow:From C:\\Users\\leeh9\\anaconda3\\envs\\ugrp_2\\lib\\site-packages\\keras\\backend\\tensorflow_backend.py:3980: The name tf.nn.avg_pool is deprecated. Please use tf.nn.avg_pool2d instead.\n",
      "\n"
     ]
    }
   ],
   "source": [
    "model = VGGFace(model = \"senet50\", include_top=False, input_shape=(300, 300, 3), pooling='avg') # pooling: None, avg or max"
   ]
  },
  {
   "cell_type": "code",
   "execution_count": 5,
   "metadata": {},
   "outputs": [],
   "source": [
    "#train_label_EI = pd.read_csv(\"train_E_I.csv\", usecols=[1], delimiter=',').to_numpy().flatten()\n",
    "#test_label_EI = pd.read_csv(\"test_E_I.csv\", usecols=[1], delimiter=',').to_numpy().flatten()\n",
    "\n",
    "train_label_MBTI = pd.read_csv(\"csv\\\\train_MBTI.csv\", usecols=[1], delimiter=',').to_numpy().flatten()\n",
    "test_label_MBTI = pd.read_csv(\"csv\\\\test_MBTI.csv\", usecols=[1], delimiter=',').to_numpy().flatten()\n",
    "\n",
    "from sklearn import preprocessing\n",
    "le = preprocessing.LabelEncoder()\n",
    "train_label_MBTI = le.fit_transform(train_label_MBTI)\n",
    "test_label_MBTI = le.transform(test_label_MBTI)"
   ]
  },
  {
   "cell_type": "code",
   "execution_count": 6,
   "metadata": {},
   "outputs": [],
   "source": [
    "def preprocess_image(path):\n",
    "    img = image.load_img(path, target_size=(300, 300))\n",
    "    x = image.img_to_array(img)\n",
    "    x = np.expand_dims(x, axis=0)\n",
    "    x = utils.preprocess_input(x, version=2)\n",
    "    return x"
   ]
  },
  {
   "cell_type": "code",
   "execution_count": 7,
   "metadata": {},
   "outputs": [],
   "source": [
    "#df_train_EI = pd.read_csv(\"train_E_I.csv\", usecols=[0], delimiter=',').values.flatten()\n",
    "#df_test_EI = pd.read_csv(\"test_E_I.csv\", usecols=[0], delimiter=',').values.flatten()\n",
    "#preprocessed_train_images_EI = np.vstack([preprocess_image(df_train_EI[i]) for i in range(df_train_EI.shape[0])])\n",
    "#preprocessed_test_images_EI = np.vstack([preprocess_image(df_test_EI[i]) for i in range(df_test_EI.shape[0])])\n",
    "\n",
    "df_train_MBTI = pd.read_csv(\"csv\\\\train_MBTI.csv\", usecols=[0], delimiter=',').values.flatten()\n",
    "df_test_MBTI = pd.read_csv(\"csv\\\\test_MBTI.csv\", usecols=[0], delimiter=',').values.flatten()\n",
    "preprocessed_train_images_MBTI = np.vstack([preprocess_image(df_train_MBTI[i]) for i in range(df_train_MBTI.shape[0])])\n",
    "preprocessed_test_images_MBTI = np.vstack([preprocess_image(df_test_MBTI[i]) for i in range(df_test_MBTI.shape[0])])"
   ]
  },
  {
   "cell_type": "code",
   "execution_count": 8,
   "metadata": {},
   "outputs": [],
   "source": [
    "#train_features_EI = model.predict(preprocessed_train_images_EI)\n",
    "#train_features_EI = train_features_EI.reshape(train_label_EI.shape[0], -1)\n",
    "\n",
    "#test_features_EI = model.predict(preprocessed_test_images_EI)\n",
    "#test_features_EI = test_features_EI.reshape(test_label_EI.shape[0], -1)\n",
    "\n",
    "train_data_MBTI = model.predict(preprocessed_train_images_MBTI)\n",
    "train_data_MBTI = train_data_MBTI.reshape(train_label_MBTI.shape[0], -1)\n",
    "\n",
    "test_data_MBTI = model.predict(preprocessed_test_images_MBTI)\n",
    "test_data_MBTI = test_data_MBTI.reshape(test_label_MBTI.shape[0], -1)"
   ]
  },
  {
   "cell_type": "code",
   "execution_count": 9,
   "metadata": {},
   "outputs": [],
   "source": [
    "#np.save(\"vgg\\\\train_EI.npy\", vgg_train_features_EI)\n",
    "#np.save(\"vgg\\\\test_EI.npy\", vgg_test_features_EI)\n",
    "#np.save(\"vgg\\\\label_train_EI.npy\", train_label_EI)\n",
    "#np.save(\"vgg\\\\label_test_EI.npy\", test_label_EI)\n",
    "\n",
    "np.save(\"vgg\\\\train_data_MBTI.npy\", train_data_MBTI)\n",
    "np.save(\"vgg\\\\test_data_MBTI.npy\", test_data_MBTI)\n",
    "np.save(\"vgg\\\\train_label_MBTI.npy\", train_label_MBTI)\n",
    "np.save(\"vgg\\\\test_label_MBTI.npy\", test_label_MBTI)"
   ]
  },
  {
   "cell_type": "code",
   "execution_count": null,
   "metadata": {},
   "outputs": [],
   "source": []
  }
 ]
}