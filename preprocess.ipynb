{
 "cells": [
  {
   "cell_type": "code",
   "execution_count": 58,
   "metadata": {
    "collapsed": true,
    "pycharm": {
     "name": "#%%\n"
    }
   },
   "outputs": [],
   "source": [
    "import glob, re, os, shutil, random\n",
    "import pandas as pd\n",
    "from pathlib import Path\n",
    "import numpy as np"
   ]
  },
  {
   "cell_type": "code",
   "execution_count": 9,
   "outputs": [],
   "source": [
    "x = glob.glob(\"data/align_image_1_3/*/*\")\n",
    "for filename in x:\n",
    "    fre = re.search('data\\/align_image_1_3\\/([0-9]*)\\/([0-9]*).jpg',filename, re.IGNORECASE)\n",
    "    if fre:\n",
    "        folder = fre.group(1)\n",
    "        file = fre.group(2)\n",
    "        new_name = f\"data/renamed/{folder}_{file}.jpg\"\n",
    "        shutil.copy(filename, new_name)"
   ],
   "metadata": {
    "collapsed": false,
    "pycharm": {
     "name": "#%%\n"
    }
   }
  },
  {
   "cell_type": "code",
   "execution_count": 96,
   "outputs": [],
   "source": [
    "#############################################\n",
    "######### Split label file E/I, ... #########\n",
    "#############################################\n",
    "\n",
    "TARGET_LIST = ['E/I', 'F/T', 'J/P', 'N/S']\n",
    "for TARGET in TARGET_LIST:\n",
    "    df = pd.read_csv(\"data/label.csv\", index_col= \"No.\")\n",
    "    df.drop(df.columns[-3:], inplace=True, axis = 1)\n",
    "    df.rename(columns={df.columns[0]:'MBTI'}, inplace=True)\n",
    "    EI_df = pd.get_dummies(df[TARGET])\n",
    "    EI_df.insert(0, \"filename\", 0)\n",
    "    temp = EI_df.loc[EI_df.index.repeat(5)]\n",
    "    temp.index = np.arange(1, len(temp) + 1)\n",
    "    for index in range(len(temp.index)):\n",
    "            filename = f\"{index//5+1}_{index%5+1}.jpg\"\n",
    "            temp.iloc[index, temp.columns.get_loc(\"filename\")] = filename\n",
    "\n",
    "    temp.rename(columns=lambda x: x.strip(), inplace=True)\n",
    "    temp.to_csv(f\"data/label_{TARGET[0]}_{TARGET[2]}.csv\", index = False)\n"
   ],
   "metadata": {
    "collapsed": false,
    "pycharm": {
     "name": "#%%\n"
    }
   }
  },
  {
   "cell_type": "code",
   "execution_count": 62,
   "outputs": [],
   "source": [
    "#############################################\n",
    "##### Select Validation data file, ... ######\n",
    "#############################################\n",
    "\n",
    "###############\n",
    "# Don't run!\n",
    "###############\n",
    "\n",
    "NUM = 394\n",
    "TRAIN_SIZE = int(394 * 0.8)\n",
    "VAL_SIZE = NUM-TRAIN_SIZE\n",
    "IMG_LIST = [x+1 for x in range(NUM)]\n",
    "VAL_LIST = random.sample(IMG_LIST, VAL_SIZE)"
   ],
   "metadata": {
    "collapsed": false,
    "pycharm": {
     "name": "#%%\n"
    }
   }
  },
  {
   "cell_type": "code",
   "execution_count": 121,
   "outputs": [],
   "source": [
    "###################################\n",
    "##### Train, Validation Split #####\n",
    "###################################\n",
    "\n",
    "#########################\n",
    "CLASS = ('E', 'I')\n",
    "#########################\n",
    "\n",
    "\n",
    "# Create missing directory\n",
    "for dir in [\"train\", \"validation\"]:\n",
    "    for c in CLASS:\n",
    "        Path(f\"data/EI/{dir}/{CLASS[0]}\").mkdir(parents=True, exist_ok=True)\n",
    "        Path(f\"data/EI/{dir}/{CLASS[1]}\").mkdir(parents=True, exist_ok=True)\n",
    "df = pd.read_csv(f\"data/label_{CLASS[0]}_{CLASS[1]}.csv\" )\n",
    "\n",
    "# lambda function for PATH setting\n",
    "TARGET_PATH = lambda target, cl : f\"data/{CLASS[0]}{CLASS[1]}/{target}/{cl}\"\n",
    "SOURCE_PATH = lambda name : f\"data/renamed/{name}\"\n",
    "\n",
    "# iterate over index and copy data from source path\n",
    "for index, data in df.iterrows():\n",
    "    t = \"validation\" if index//5 +1 in VAL_LIST else \"train\"\n",
    "    if data.loc[CLASS[0]]==1:\n",
    "        target_class = CLASS[0]\n",
    "    else:\n",
    "        target_class = CLASS[1]\n",
    "    try:\n",
    "        shutil.copy(SOURCE_PATH(data[\"filename\"]), TARGET_PATH(t, target_class))\n",
    "    except:\n",
    "        pass\n",
    "\n",
    "\n"
   ],
   "metadata": {
    "collapsed": false,
    "pycharm": {
     "name": "#%%\n"
    }
   }
  }
 ],
 "metadata": {
  "kernelspec": {
   "display_name": "Python 3",
   "language": "python",
   "name": "python3"
  },
  "language_info": {
   "codemirror_mode": {
    "name": "ipython",
    "version": 2
   },
   "file_extension": ".py",
   "mimetype": "text/x-python",
   "name": "python",
   "nbconvert_exporter": "python",
   "pygments_lexer": "ipython2",
   "version": "2.7.6"
  }
 },
 "nbformat": 4,
 "nbformat_minor": 0
}