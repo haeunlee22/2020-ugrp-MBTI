{
 "cells": [
  {
   "cell_type": "code",
   "execution_count": 1,
   "metadata": {
    "collapsed": true,
    "pycharm": {
     "name": "#%%\n"
    }
   },
   "outputs": [],
   "source": [
    "import glob, re, os, shutil, random\n",
    "import pandas as pd\n",
    "from pathlib import Path\n",
    "import numpy as np"
   ]
  },
  {
   "cell_type": "code",
   "execution_count": 2,
   "outputs": [],
   "source": [
    "#############################################\n",
    "######### Split label file E/I, ... #########\n",
    "#############################################\n",
    "\n",
    "TARGET_LIST = ['E/I', 'F/T', 'J/P', 'N/S']\n",
    "for TARGET in TARGET_LIST:\n",
    "    df = pd.read_csv(\"data\\\\label.csv\", index_col= \"No.\")\n",
    "    trait = TARGET.split('/')\n",
    "\n",
    "    os.makedirs(f'data\\\\{trait[0]}_{trait[1]}\\\\{trait[0]}', exist_ok=True)\n",
    "    os.makedirs(f'data\\\\{trait[0]}_{trait[1]}\\\\{trait[1]}', exist_ok=True)\n",
    "\n",
    "    for file in glob.glob(\"data\\\\images\\\\*.jpg\"):\n",
    "            file_id = file.replace('_', '\\\\').split('\\\\')[2]\n",
    "            personality = df.iloc[int(file_id)-1][TARGET].strip(' ')\n",
    "        \n",
    "            SOURCE_PATH = f'{file}'\n",
    "            TARGET_PATH = f'data\\\\{trait[0]}_{trait[1]}\\\\{personality}'\n",
    "\n",
    "            shutil.copy(SOURCE_PATH, TARGET_PATH)"
   ],
   "metadata": {
    "collapsed": false,
    "pycharm": {
     "name": "#%%\n"
    },
    "tags": []
   }
  },
  {
   "cell_type": "code",
   "execution_count": 8,
   "metadata": {
    "tags": []
   },
   "outputs": [],
   "source": [
    "import pandas as pd\n",
    "import glob, shutil\n",
    "\n",
    "df = pd.read_csv(\"data\\\\label.csv\", index_col= \"No.\")\n",
    "\n",
    "TARGET_LIST = ['E/I', 'F/T', 'J/P', 'N/S']\n",
    "TYPE_LIST = ['train', 'test']\n",
    "\n",
    "for data_type in TYPE_LIST:\n",
    "    for target in TARGET_LIST:\n",
    "        trait = target.split('/')\n",
    "        os.makedirs(f'data\\\\images\\\\{data_type}\\\\{trait[0]}_{trait[1]}\\\\{trait[0]}', exist_ok=True)\n",
    "        os.makedirs(f'data\\\\images\\\\{data_type}\\\\{trait[0]}_{trait[1]}\\\\{trait[1]}', exist_ok=True)\n",
    "\n",
    "df_MBTI_train = pd.DataFrame(columns = ['filename', 'MBTI'])\n",
    "df_EI_train = pd.DataFrame(columns = ['filename', 'E/I']) \n",
    "df_FT_train = pd.DataFrame(columns = ['filename', 'F/T']) \n",
    "df_JP_train = pd.DataFrame(columns = ['filename', 'J/P'])\n",
    "df_NS_train = pd.DataFrame(columns = ['filename', 'N/S']) \n",
    "\n",
    "df_MBTI_test = pd.DataFrame(columns = ['filename', 'MBTI'])\n",
    "df_EI_test = pd.DataFrame(columns = ['filename', 'E/I']) \n",
    "df_FT_test = pd.DataFrame(columns = ['filename', 'F/T']) \n",
    "df_JP_test = pd.DataFrame(columns = ['filename', 'J/P'])\n",
    "df_NS_test = pd.DataFrame(columns = ['filename', 'N/S']) \n",
    "\n",
    "for i in range(1, df.shape[0] + 1):\n",
    "    file_name = f'{i}_*'\n",
    "    for file in glob.glob(f'data\\\\images\\\\{file_name}'):\n",
    "        E_I = df.loc[i, 'E/I']\n",
    "        F_T = df.loc[i, 'F/T']\n",
    "        J_P = df.loc[i, 'J/P']\n",
    "        N_S = df.loc[i, 'N/S']\n",
    "\n",
    "        SOURCE_PATH = f'{file}'\n",
    "        if i % 5 == 0 : # TEST\n",
    "            df_EI_test = df_EI_test.append({'filename':file, 'E/I':int(E_I == 'E')}, ignore_index=True)\n",
    "            df_FT_test = df_FT_test.append({'filename':file, 'F/T':int(F_T == 'F')}, ignore_index=True)\n",
    "            df_JP_test = df_JP_test.append({'filename':file, 'J/P':int(J_P == 'J')}, ignore_index=True)\n",
    "            df_NS_test = df_NS_test.append({'filename':file, 'N/S':int(N_S == 'N')}, ignore_index=True)\n",
    "            df_MBTI_test = df_MBTI_test.append({'filename':file, 'MBTI':E_I+N_S+F_T+J_P}, ignore_index=True)\n",
    "\n",
    "            shutil.copy(SOURCE_PATH, f'data\\\\images\\\\test\\\\E_I\\\\{E_I}')\n",
    "            shutil.copy(SOURCE_PATH, f'data\\\\images\\\\test\\\\F_T\\\\{F_T}')\n",
    "            shutil.copy(SOURCE_PATH, f'data\\\\images\\\\test\\\\J_P\\\\{J_P}')\n",
    "            shutil.copy(SOURCE_PATH, f'data\\\\images\\\\test\\\\N_S\\\\{N_S}')\n",
    "        else : # TRAIN\n",
    "            df_EI_train = df_EI_train.append({'filename':file, 'E/I':int(E_I == 'E')}, ignore_index=True)\n",
    "            df_FT_train = df_FT_train.append({'filename':file, 'F/T':int(F_T == 'F')}, ignore_index=True)\n",
    "            df_JP_train = df_JP_train.append({'filename':file, 'J/P':int(J_P == 'J')}, ignore_index=True)\n",
    "            df_NS_train = df_NS_train.append({'filename':file, 'N/S':int(N_S == 'N')}, ignore_index=True)\n",
    "            df_MBTI_train = df_MBTI_train.append({'filename':file, 'MBTI':E_I+N_S+F_T+J_P}, ignore_index=True)\n",
    "\n",
    "            shutil.copy(SOURCE_PATH, f'data\\\\images\\\\train\\\\E_I\\\\{E_I}')\n",
    "            shutil.copy(SOURCE_PATH, f'data\\\\images\\\\train\\\\F_T\\\\{F_T}')\n",
    "            shutil.copy(SOURCE_PATH, f'data\\\\images\\\\train\\\\J_P\\\\{J_P}')\n",
    "            shutil.copy(SOURCE_PATH, f'data\\\\images\\\\train\\\\N_S\\\\{N_S}')\n",
    "\n",
    "df_EI_train.to_csv('train_E_I.csv', index=False)\n",
    "df_FT_train.to_csv('train_F_T.csv', index=False)\n",
    "df_JP_train.to_csv('train_J_P.csv', index=False)\n",
    "df_NS_train.to_csv('train_N_S.csv', index=False)\n",
    "df_EI_test.to_csv('test_E_I.csv', index=False)\n",
    "df_FT_test.to_csv('test_F_T.csv', index=False)\n",
    "df_JP_test.to_csv('test_J_P.csv', index=False)\n",
    "df_NS_test.to_csv('test_N_S.csv', index=False)\n",
    "\n",
    "df_MBTI_train.to_csv('train_MBTI.csv', index=False)\n",
    "df_MBTI_test.to_csv('test_MBTI.csv', index=False)"
   ]
  },
  {
   "cell_type": "code",
   "execution_count": null,
   "metadata": {},
   "outputs": [],
   "source": []
  }
 ],
 "metadata": {
  "kernelspec": {
   "display_name": "Python 3",
   "language": "python",
   "name": "python3"
  },
  "language_info": {
   "codemirror_mode": {
    "name": "ipython",
    "version": 2
   },
   "file_extension": ".py",
   "mimetype": "text/x-python",
   "name": "python",
   "nbconvert_exporter": "python",
   "pygments_lexer": "ipython2",
   "version": "3.7.3-final"
  }
 },
 "nbformat": 4,
 "nbformat_minor": 0
}