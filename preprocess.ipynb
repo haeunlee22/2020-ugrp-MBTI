{
 "cells": [
  {
   "cell_type": "code",
   "execution_count": 31,
   "metadata": {
    "collapsed": true,
    "pycharm": {
     "name": "#%%\n"
    }
   },
   "outputs": [],
   "source": [
    "import glob, re, os, shutil, random\n",
    "import pandas as pd\n",
    "from pathlib import Path\n",
    "import numpy as np"
   ]
  },
  {
   "cell_type": "code",
   "execution_count": 32,
   "outputs": [],
   "source": [
    "#############################################\n",
    "######### Split label file E/I, ... #########\n",
    "#############################################\n",
    "\n",
    "TARGET_LIST = ['E/I', 'F/T', 'J/P', 'N/S']\n",
    "for TARGET in TARGET_LIST:\n",
    "    df = pd.read_csv(\"data\\\\label.csv\", index_col= \"No.\")\n",
    "    df.drop(df.columns[-3:], inplace=True, axis = 1)\n",
    "    df.rename(columns={df.columns[0]:'MBTI'}, inplace=True)\n",
    "\n",
    "    trait = TARGET.split('/')\n",
    "    df2 = pd.DataFrame(columns=['filename', f'{trait[0]}', f'{trait[1]}'])\n",
    "\n",
    "    os.makedirs(f'data\\\\{trait[0]}_{trait[1]}\\\\{trait[0]}', exist_ok=True)\n",
    "    os.makedirs(f'data\\\\{trait[0]}_{trait[1]}\\\\{trait[1]}', exist_ok=True)\n",
    "\n",
    "    for file in glob.glob(\"data\\\\images\\\\*.jpg\"):\n",
    "            file_id = file.replace('_', '\\\\').split('\\\\')[2]\n",
    "            personality = df.iloc[int(file_id)][TARGET].strip(' ')\n",
    "\n",
    "            new_row = {\n",
    "                    'filename' : file, \n",
    "                    f'{trait[0]}' : int(personality == trait[0]),\n",
    "                    f'{trait[1]}' : int(personality == trait[1])\n",
    "            }\n",
    "            df2 = df2.append(new_row, ignore_index=True)\n",
    "        \n",
    "            SOURCE_PATH = f'{file}'\n",
    "            TARGET_PATH = f'data\\\\{trait[0]}_{trait[1]}\\\\{personality}'\n",
    "\n",
    "            shutil.copy(SOURCE_PATH, TARGET_PATH)\n",
    "\n",
    "    df2.to_csv(f'data\\\\label_{trait[0]}_{trait[1]}.csv', index=False)"
   ],
   "metadata": {
    "collapsed": false,
    "pycharm": {
     "name": "#%%\n"
    },
    "tags": []
   }
  },
  {
   "cell_type": "code",
   "execution_count": null,
   "metadata": {},
   "outputs": [],
   "source": []
  }
 ],
 "metadata": {
  "kernelspec": {
   "display_name": "Python 3",
   "language": "python",
   "name": "python3"
  },
  "language_info": {
   "codemirror_mode": {
    "name": "ipython",
    "version": 2
   },
   "file_extension": ".py",
   "mimetype": "text/x-python",
   "name": "python",
   "nbconvert_exporter": "python",
   "pygments_lexer": "ipython2",
   "version": "3.8.5-final"
  }
 },
 "nbformat": 4,
 "nbformat_minor": 0
}