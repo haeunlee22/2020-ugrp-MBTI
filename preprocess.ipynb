{
 "cells": [
  {
   "cell_type": "code",
   "execution_count": 63,
   "metadata": {
    "collapsed": true,
    "pycharm": {
     "name": "#%%\n"
    }
   },
   "outputs": [],
   "source": [
    "import glob, re, os, shutil, random\n",
    "import pandas as pd\n",
    "from pathlib import Path\n",
    "import numpy as np"
   ]
  },
  {
   "cell_type": "code",
   "execution_count": 64,
   "outputs": [],
   "source": [
    "#############################################\n",
    "######### Split label file E/I, ... #########\n",
    "#############################################\n",
    "\n",
    "TARGET_LIST = ['E/I', 'F/T', 'J/P', 'N/S']\n",
    "for TARGET in TARGET_LIST:\n",
    "    df = pd.read_csv(\"C:\\\\Users\\\\leeh9\\\\UGRP-MBTI\\\\2020-ugrp-Face-analysis-MBTI\\\\data\\\\label.csv\", index_col= \"No.\")\n",
    "    df.drop(df.columns[-3:], inplace=True, axis = 1)\n",
    "    df.rename(columns={df.columns[0]:'MBTI'}, inplace=True)\n",
    "\n",
    "    trait = TARGET.split('/')\n",
    "    df2 = pd.DataFrame(columns=['filename', f'{trait[0]}', f'{trait[1]}'])\n",
    "\n",
    "    os.chdir(\"C:\\\\Users\\\\leeh9\\\\UGRP-MBTI\\\\2020-ugrp-Face-analysis-MBTI\\\\data\\\\images\")\n",
    "    for file in glob.glob(\"*.jpg\"):\n",
    "            file_id = file.split('_')[0]\n",
    "            personality = df.iloc[int(file_id)][TARGET].strip(' ')\n",
    "\n",
    "            new_row = {\n",
    "                    'filename' : file, \n",
    "                    f'{trait[0]}' : int(personality == trait[0]), \n",
    "                    f'{trait[1]}' : int(personality == trait[1])\n",
    "            }\n",
    "            df2 = df2.append(new_row, ignore_index=True)\n",
    "    os.chdir(\"C:\\\\Users\\\\leeh9\\\\UGRP-MBTI\\\\2020-ugrp-Face-analysis-MBTI\\\\data\")\n",
    "    df2.to_csv(f'label_{trait[0]}_{trait[1]}.csv', index=False)"
   ],
   "metadata": {
    "collapsed": false,
    "pycharm": {
     "name": "#%%\n"
    },
    "tags": []
   }
  },
  {
   "cell_type": "code",
   "execution_count": 5,
   "outputs": [],
   "source": [
    "###################################\n",
    "##### Train, Validation Split #####\n",
    "###################################\n",
    "\n",
    "#########################\n",
    "CLASS = ('E', 'I')\n",
    "#########################\n",
    "\n",
    "# Create missing directory\n",
    "for dir in [\"train\", \"validation\"]:\n",
    "    for c in CLASS:\n",
    "        Path(f\"data/EI/{dir}/{CLASS[0]}\").mkdir(parents=True, exist_ok=True)\n",
    "        Path(f\"data/EI/{dir}/{CLASS[1]}\").mkdir(parents=True, exist_ok=True)\n",
    "df = pd.read_csv(f\"data/label_{CLASS[0]}_{CLASS[1]}.csv\" )\n",
    "\n",
    "# lambda function for PATH setting\n",
    "TARGET_PATH = lambda target, cl : f\"data/{CLASS[0]}{CLASS[1]}/{target}/{cl}\"\n",
    "SOURCE_PATH = lambda name : f\"data/renamed/{name}\"\n",
    "\n",
    "# iterate over index and copy data from source path\n",
    "for index, data in df.iterrows():\n",
    "    t = \"validation\" if index//5 +1 in VAL_LIST else \"train\"\n",
    "    if data.loc[CLASS[0]]==1:\n",
    "        target_class = CLASS[0]\n",
    "    else:\n",
    "        target_class = CLASS[1]\n",
    "    try:\n",
    "        shutil.copy(SOURCE_PATH(data[\"filename\"]), TARGET_PATH(t, target_class))\n",
    "    except:\n",
    "        pass\n",
    "\n",
    "\n"
   ],
   "metadata": {
    "collapsed": false,
    "pycharm": {
     "name": "#%%\n"
    }
   }
  }
 ],
 "metadata": {
  "kernelspec": {
   "display_name": "Python 3",
   "language": "python",
   "name": "python3"
  },
  "language_info": {
   "codemirror_mode": {
    "name": "ipython",
    "version": 2
   },
   "file_extension": ".py",
   "mimetype": "text/x-python",
   "name": "python",
   "nbconvert_exporter": "python",
   "pygments_lexer": "ipython2",
   "version": "3.8.5-final"
  }
 },
 "nbformat": 4,
 "nbformat_minor": 0
}