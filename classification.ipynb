{
 "metadata": {
  "language_info": {
   "codemirror_mode": {
    "name": "ipython",
    "version": 3
   },
   "file_extension": ".py",
   "mimetype": "text/x-python",
   "name": "python",
   "nbconvert_exporter": "python",
   "pygments_lexer": "ipython3",
   "version": "3.7.3-final"
  },
  "orig_nbformat": 2,
  "kernelspec": {
   "name": "python3",
   "display_name": "Python 3.7.3 64-bit ('ugrp_2': conda)",
   "metadata": {
    "interpreter": {
     "hash": "7bc6d09db81844138b66ce940f784dc9adac4bc49d2b1398ba1bbf3b56cd5cff"
    }
   }
  }
 },
 "nbformat": 4,
 "nbformat_minor": 2,
 "cells": [
  {
   "cell_type": "code",
   "execution_count": 2,
   "metadata": {},
   "outputs": [],
   "source": [
    "import numpy as np\n",
    "\n",
    "#data = np.load(\"vgg_feature.npy\")\n",
    "#label = np.load(\"label.npy\")\n",
    "\n",
    "#train_data_EI = np.load(\"vgg\\\\train_EI.npy\")\n",
    "#test_data_EI = np.load(\"vgg\\\\vgg_feature_test_EI.npy\")\n",
    "#train_label_EI = np.load(\"vgg\\\\label_train_EI.npy\")\n",
    "#test_label_EI = np.load(\"vgg\\\\label_test_EI.npy\")\n",
    "\n",
    "train_data_MBTI = np.load(\"vgg\\\\train_data_MBTI.npy\")\n",
    "test_data_MBTI = np.load(\"vgg\\\\test_data_MBTI.npy\")\n",
    "train_label_MBTI = np.load(\"vgg\\\\train_label_MBTI.npy\")\n",
    "test_label_MBTI = np.load(\"vgg\\\\test_label_MBTI.npy\")"
   ]
  },
  {
   "source": [
    "from sklearn.discriminant_analysis import LinearDiscriminantAnalysis\n",
    "from sklearn.preprocessing import StandardScaler\n",
    "from sklearn.datasets import load_iris\n",
    "from sklearn.metrics import accuracy_score\n",
    "import pandas as pd\n",
    "\n",
    "from sklearn.neighbors import KNeighborsClassifier\n",
    "from sklearn.svm import SVC\n",
    "from sklearn.tree import DecisionTreeClassifier\n",
    "from sklearn.ensemble import RandomForestClassifier, AdaBoostClassifier, GradientBoostingClassifier\n",
    "from sklearn.naive_bayes import GaussianNB\n",
    "from sklearn.discriminant_analysis import LinearDiscriminantAnalysis\n",
    "from sklearn.discriminant_analysis import QuadraticDiscriminantAnalysis\n",
    "\n",
    "from sklearn.linear_model import LogisticRegression\n",
    "\n",
    "####################\n",
    "#       LDA        #\n",
    "####################\n",
    "\n",
    "names = [\"Nearest Neighbors\", \"Linear SVM\", \"RBF SVM\", \"Decision Tree\",\n",
    "         \"Random Forest\", \"AdaBoost\", \"GradientBoost\", \"Naive Bayes\", \"LDA\", \"QDA\"]\n",
    "         \n",
    "classifiers = [\n",
    "    KNeighborsClassifier(8),\n",
    "    SVC(kernel=\"linear\", C=0.025),\n",
    "    SVC(gamma=2, C=1),\n",
    "    DecisionTreeClassifier(max_depth=5),\n",
    "    RandomForestClassifier(max_depth=5, n_estimators=10, max_features=1),\n",
    "    RandomForestClassifier(),\n",
    "    AdaBoostClassifier(),\n",
    "    #GradientBoostingClassifier(),\n",
    "    GaussianNB(),\n",
    "    LogisticRegression(),\n",
    "    LinearDiscriminantAnalysis(),\n",
    "    QuadraticDiscriminantAnalysis(),\n",
    "    \n",
    "]\n",
    "\n",
    "for classifier in classifiers:\n",
    "    #classifier.fit(train_data_EI, train_label_EI)\n",
    "    #predict_EI = classifier.predict(test_data_EI)\n",
    "    #print(accuracy_score(test_label_EI, predict_EI))\n",
    "\n",
    "    classifier.fit(train_data_MBTI, train_label_MBTI)\n",
    "    predict_MBTI = classifier.predict(test_data_MBTI)\n",
    "    print(accuracy_score(test_label_MBTI, predict_MBTI))\n",
    "\n",
    "#lda = LinearDiscriminantAnalysis()\n",
    "#lda2 = LinearDiscriminantAnalysis()\n",
    "\n",
    "#lda.fit(train_data_EI, train_label_EI)\n",
    "#lda_predict_EI = lda.predict(test_data_EI)\n",
    "#print(accuracy_score(test_label_EI, lda_predict_EI))\n",
    "\n",
    "#lda2.fit(train_data_MBTI, train_label_MBTI)\n",
    "#lda2_predict_MBTI = lda2.predict(test_data_MBTI)\n",
    "#print(accuracy_score(test_label_MBTI, lda2_predict_MBTI))"
   ],
   "cell_type": "code",
   "metadata": {},
   "execution_count": 3,
   "outputs": [
    {
     "output_type": "stream",
     "name": "stdout",
     "text": [
      "0.12831858407079647\n",
      "0.1504424778761062\n",
      "0.18141592920353983\n",
      "0.1570796460176991\n",
      "0.13938053097345132\n",
      "0.17035398230088494\n",
      "0.16592920353982302\n",
      "0.13274336283185842\n",
      "0.13495575221238937\n",
      "0.07743362831858407\n",
      "0.05530973451327434\n"
     ]
    }
   ]
  },
  {
   "cell_type": "code",
   "execution_count": null,
   "metadata": {},
   "outputs": [],
   "source": []
  }
 ]
}