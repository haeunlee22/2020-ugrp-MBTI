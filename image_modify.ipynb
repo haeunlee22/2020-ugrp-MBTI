{
 "metadata": {
  "language_info": {
   "codemirror_mode": {
    "name": "ipython",
    "version": 3
   },
   "file_extension": ".py",
   "mimetype": "text/x-python",
   "name": "python",
   "nbconvert_exporter": "python",
   "pygments_lexer": "ipython3",
   "version": "3.8.5-final"
  },
  "orig_nbformat": 2,
  "kernelspec": {
   "name": "python3",
   "display_name": "Python 3",
   "language": "python"
  }
 },
 "nbformat": 4,
 "nbformat_minor": 2,
 "cells": [
  {
   "cell_type": "code",
   "execution_count": 2,
   "metadata": {
    "tags": []
   },
   "outputs": [],
   "source": [
    "# RESIZE images\n",
    "\n",
    "import os\n",
    "import glob\n",
    "from PIL import Image\n",
    "\n",
    "files = glob.glob('data/images/*')\n",
    "\n",
    "for f in files:\n",
    "    try:\n",
    "        img = Image.open(f)\n",
    "        img_resize = img.resize((224, 224))\n",
    "        img_resize.save(f)\n",
    "    except OSError as e:\n",
    "        pass"
   ]
  },
  {
   "cell_type": "code",
   "execution_count": 28,
   "metadata": {
    "tags": []
   },
   "outputs": [],
   "source": [
    "# MADE \"images\" directory from \"images_augmented\"\n",
    "\n",
    "import os, glob, shutil\n",
    "import pandas as pd\n",
    "\n",
    "df = pd.read_csv(\"data\\\\label.csv\", index_col= \"No.\")\n",
    "trait = TARGET.split('/')\n",
    "\n",
    "for file in glob.glob(\"data\\\\images_augmented\\\\*.jpg\"):\n",
    "        file_info = file.replace('_', '\\\\').split('\\\\')\n",
    "        file_type = file_info[-1]\n",
    "\n",
    "        if file_type == \"original.jpg\":        \n",
    "            SOURCE_PATH = f'{file}'\n",
    "            TARGET_PATH = f'data\\\\images'\n",
    "\n",
    "            shutil.copy(SOURCE_PATH, TARGET_PATH)\n",
    "            os.rename(TARGET_PATH + \"\\\\\" + str(file_info[3]) + \"_\" + str(file_info[4]) + \"_\" + str(file_type), \n",
    "                    TARGET_PATH + \"\\\\\" + str(file_info[3]) + \"_\" + str(file_info[4]) + \".jpg\")"
   ]
  },
  {
   "cell_type": "code",
   "execution_count": null,
   "metadata": {},
   "outputs": [],
   "source": []
  }
 ]
}