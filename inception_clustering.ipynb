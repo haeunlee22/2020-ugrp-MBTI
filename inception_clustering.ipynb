{
 "metadata": {
  "language_info": {
   "codemirror_mode": {
    "name": "ipython",
    "version": 3
   },
   "file_extension": ".py",
   "mimetype": "text/x-python",
   "name": "python",
   "nbconvert_exporter": "python",
   "pygments_lexer": "ipython3",
   "version": "3.8.5-final"
  },
  "orig_nbformat": 2,
  "kernelspec": {
   "name": "python3",
   "display_name": "Python 3.8.5 64-bit ('ugrp_3': conda)",
   "metadata": {
    "interpreter": {
     "hash": "7cbac8b3be74824a472ed49949595f560dc64fe3662a27dbe98c7656cc1719ce"
    }
   }
  }
 },
 "nbformat": 4,
 "nbformat_minor": 2,
 "cells": [
  {
   "cell_type": "code",
   "execution_count": 1,
   "metadata": {},
   "outputs": [
    {
     "output_type": "stream",
     "name": "stdout",
     "text": [
      "2.4.0\n[name: \"/device:CPU:0\"\ndevice_type: \"CPU\"\nmemory_limit: 268435456\nlocality {\n}\nincarnation: 11800467095614427823\n, name: \"/device:GPU:0\"\ndevice_type: \"GPU\"\nmemory_limit: 1408043827\nlocality {\n  bus_id: 1\n  links {\n  }\n}\nincarnation: 9338850680008071019\nphysical_device_desc: \"device: 0, name: GeForce MX250, pci bus id: 0000:3a:00.0, compute capability: 6.1\"\n]\n"
     ]
    }
   ],
   "source": [
    "import tensorflow as tf\n",
    "import matplotlib.pyplot as plt\n",
    "import os, random\n",
    "\n",
    "print(tf.__version__)\n",
    "\n",
    "BATCH_SIZE = 32\n",
    "IMG_SIZE = (300, 300)\n",
    "\n",
    "from tensorflow.python.client import device_lib\n",
    "print(device_lib.list_local_devices())"
   ]
  },
  {
   "cell_type": "code",
   "execution_count": 2,
   "metadata": {},
   "outputs": [],
   "source": [
    "model = tf.keras.applications.InceptionResNetV2(include_top=False, input_shape=(300, 300, 3), pooling='avg')"
   ]
  },
  {
   "cell_type": "code",
   "execution_count": 5,
   "metadata": {},
   "outputs": [
    {
     "output_type": "stream",
     "name": "stdout",
     "text": [
      "['ENFJ' 'ENFP' 'ENTJ' 'ENTP' 'ESFJ' 'ESFP' 'ESTJ' 'ESTP' 'INFJ' 'INFP'\n 'INTJ' 'INTP' 'ISFJ' 'ISFP' 'ISTJ' 'ISTP']\n"
     ]
    }
   ],
   "source": [
    "import pandas as pd\n",
    "\n",
    "train_label_MBTI = pd.read_csv(\"csv\\\\original\\\\train_MBTI.csv\", usecols=[1], delimiter=',').to_numpy().flatten()\n",
    "test_label_MBTI = pd.read_csv(\"csv\\\\original\\\\test_MBTI.csv\", usecols=[1], delimiter=',').to_numpy().flatten()\n",
    "\n",
    "real_test_label_MBTI = pd.read_csv(\"csv\\\\label_test_MBTI.csv\", usecols=[1], delimiter=',').to_numpy().flatten()\n",
    "\n",
    "from sklearn import preprocessing\n",
    "le = preprocessing.LabelEncoder()\n",
    "train_label_MBTI = le.fit_transform(train_label_MBTI)\n",
    "test_label_MBTI = le.transform(test_label_MBTI)\n",
    "print(le.classes_)\n",
    "\n",
    "real_test_label_MBTI = le.transform(real_test_label_MBTI)"
   ]
  },
  {
   "cell_type": "code",
   "execution_count": 6,
   "metadata": {},
   "outputs": [],
   "source": [
    "def preprocess_image(path):\n",
    "    img = tf.keras.preprocessing.image.load_img(path, target_size=(300, 300))\n",
    "    x = tf.keras.preprocessing.image.img_to_array(img)\n",
    "    x = np.expand_dims(x, axis=0)\n",
    "    x = tf.keras.applications.inception_resnet_v2.preprocess_input(x)\n",
    "    return x"
   ]
  },
  {
   "cell_type": "code",
   "execution_count": 11,
   "metadata": {},
   "outputs": [],
   "source": [
    "import numpy as np\n",
    "\n",
    "df_train_MBTI = pd.read_csv(\"csv\\\\original\\\\train_MBTI.csv\", usecols=[0], delimiter=',').values.flatten()\n",
    "df_test_MBTI = pd.read_csv(\"csv\\\\original\\\\test_MBTI.csv\", usecols=[0], delimiter=',').values.flatten()\n",
    "\n",
    "df_real_test_MBTI = pd.read_csv(\"csv\\\\label_test_MBTI.csv\", usecols=[0], delimiter=',').values.flatten()\n",
    "\n",
    "preprocessed_train_images_MBTI = np.vstack([preprocess_image(df_train_MBTI[i]) for i in range(df_train_MBTI.shape[0])])\n",
    "preprocessed_test_images_MBTI = np.vstack([preprocess_image(df_test_MBTI[i]) for i in range(df_test_MBTI.shape[0])])\n",
    "\n",
    "preprocessed_real_test_images_MBTI = np.vstack([preprocess_image(df_real_test_MBTI[i]) for i in range(df_real_test_MBTI.shape[0])])"
   ]
  },
  {
   "cell_type": "code",
   "execution_count": 12,
   "metadata": {},
   "outputs": [],
   "source": [
    "train_data_MBTI = model.predict(preprocessed_train_images_MBTI)\n",
    "train_data_MBTI = train_data_MBTI.reshape(train_label_MBTI.shape[0], -1)\n",
    "\n",
    "test_data_MBTI = model.predict(preprocessed_test_images_MBTI)\n",
    "test_data_MBTI = test_data_MBTI.reshape(test_label_MBTI.shape[0], -1)\n",
    "\n",
    "real_test_data_MBTI = model.predict(preprocessed_real_test_images_MBTI)\n",
    "real_test_data_MBTI = real_test_data_MBTI.reshape(real_test_data_MBTI.shape[0], -1)"
   ]
  },
  {
   "cell_type": "code",
   "execution_count": 14,
   "metadata": {},
   "outputs": [],
   "source": [
    "np.save(\"inception\\\\original\\\\train_data_MBTI.npy\", train_data_MBTI)\n",
    "np.save(\"inception\\\\original\\\\test_data_MBTI.npy\", test_data_MBTI)\n",
    "np.save(\"inception\\\\original\\\\train_label_MBTI.npy\", train_label_MBTI)\n",
    "np.save(\"inception\\\\original\\\\test_label_MBTI.npy\", test_label_MBTI)\n",
    "\n",
    "np.save(\"inception\\\\real_test_data_MBTI.npy\", real_test_data_MBTI)\n",
    "np.save(\"inception\\\\real_test_label_MBTI.npy\", real_test_label_MBTI)"
   ]
  },
  {
   "cell_type": "code",
   "execution_count": null,
   "metadata": {},
   "outputs": [],
   "source": []
  }
 ]
}